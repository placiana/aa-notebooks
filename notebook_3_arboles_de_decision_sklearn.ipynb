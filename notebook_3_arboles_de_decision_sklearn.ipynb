{
 "cells": [
  {
   "cell_type": "markdown",
   "metadata": {
    "slideshow": {
     "slide_type": "slide"
    }
   },
   "source": [
    "## Scikit-learn (sklearn)\n",
    "\n",
    "### Primera aplicación, clasificación de \"irises\"\n",
    "<span><img src=\"http://s5047.pcdn.co/wp-content/uploads/2015/04/iris_petal_sepal.png\" alt=\"drawing\" style=\"width: 200px;\"/> <img src=\"http://www.spataru.at/iris-dataset-svm/iris_types.jpg\" alt=\"drawing\" style=\"width: 500px;\"/></span>\n",
    "\n",
    "El dataset Fisher's Iris es un conjunto de datos multivariado introducido por Ronald Fisher en su paper de 1936 *The use of multiple measurements in taxonomic problems* como un ejemplo de análisis discriminante lineal.\n",
    "\n"
   ]
  },
  {
   "cell_type": "code",
   "execution_count": null,
   "metadata": {
    "slideshow": {
     "slide_type": "slide"
    }
   },
   "outputs": [],
   "source": [
    "import numpy as np\n",
    "import pandas as pd\n",
    "import sklearn \n",
    "import matplotlib.pyplot as plt\n",
    "\n",
    "from sklearn.datasets import load_iris\n",
    "iris_dataset = load_iris()"
   ]
  },
  {
   "cell_type": "markdown",
   "metadata": {
    "slideshow": {
     "slide_type": "fragment"
    }
   },
   "source": [
    "#### Paso 0: exploración del objeto ```iris_dataset```\n"
   ]
  },
  {
   "cell_type": "code",
   "execution_count": null,
   "metadata": {
    "slideshow": {
     "slide_type": "fragment"
    }
   },
   "outputs": [],
   "source": [
    "print(\"Componentes del iris_dataset: {}\".format(iris_dataset.keys()))\n",
    "print(\"Nombres de categorías a aprender (target): {}\".format(iris_dataset['target_names']))\n",
    "print(\"Nombres de features: {}\".format(iris_dataset['feature_names']))\n",
    "print(\"Dimensión de los datos: {}\".format(iris_dataset['data'].shape))\n",
    "print(\"Primeras 5 filas:\\n{}\".format(iris_dataset['data'][:5]))\n",
    "print(\"Dimensión del target: {}\".format(iris_dataset['target'].shape))\n",
    "print(\"Target primeras 5 filas:\\n{}\".format(iris_dataset['target'][:5]))\n",
    "print(\"Target últimas 5 filas:\\n{}\".format(iris_dataset['target'][-5:]))\n",
    "\n",
    "print(iris_dataset.DESCR)"
   ]
  },
  {
   "cell_type": "markdown",
   "metadata": {
    "slideshow": {
     "slide_type": "slide"
    }
   },
   "source": [
    "#### Paso 1: División de datos (training - testing)\n"
   ]
  },
  {
   "cell_type": "code",
   "execution_count": null,
   "metadata": {
    "slideshow": {
     "slide_type": "fragment"
    }
   },
   "outputs": [],
   "source": [
    "import sklearn.model_selection\n",
    "\n",
    "X_train, X_test, y_train, y_test = sklearn.model_selection.train_test_split(\n",
    "    iris_dataset['data'], iris_dataset['target'], random_state=0, test_size=0.1)\n",
    "\n",
    "print(\"X_train dimensión: {}\".format(X_train.shape))\n",
    "print(\"y_train dimensión: {}\".format(y_train.shape))\n",
    "\n",
    "print(\"X_test dimensión: {}\".format(X_test.shape))\n",
    "print(\"y_test dimensión: {}\".format(y_test.shape))"
   ]
  },
  {
   "cell_type": "markdown",
   "metadata": {
    "slideshow": {
     "slide_type": "slide"
    }
   },
   "source": [
    "#### Paso 2: Exploración de los datos\n"
   ]
  },
  {
   "cell_type": "code",
   "execution_count": null,
   "metadata": {
    "slideshow": {
     "slide_type": "fragment"
    }
   },
   "outputs": [],
   "source": [
    "iris_dataframe = pd.DataFrame(X_train, columns=iris_dataset.feature_names)\n",
    "iris_dataframe.head(10)\n"
   ]
  },
  {
   "cell_type": "code",
   "execution_count": null,
   "metadata": {
    "slideshow": {
     "slide_type": "fragment"
    }
   },
   "outputs": [],
   "source": [
    "pd.plotting.scatter_matrix(iris_dataframe, c=y_train, s=80, figsize=(15, 8), marker='o', alpha=.8);"
   ]
  },
  {
   "cell_type": "markdown",
   "metadata": {
    "slideshow": {
     "slide_type": "slide"
    }
   },
   "source": [
    "#### Paso 3: Construcción de un modelo (k-vecinos más cercanos)"
   ]
  },
  {
   "cell_type": "code",
   "execution_count": null,
   "metadata": {
    "slideshow": {
     "slide_type": "fragment"
    }
   },
   "outputs": [],
   "source": [
    "from sklearn.tree import DecisionTreeClassifier\n",
    "arbol = DecisionTreeClassifier(max_depth=3, criterion=\"entropy\")\n",
    "\n",
    "arbol.fit(X_train, y_train)"
   ]
  },
  {
   "cell_type": "markdown",
   "metadata": {
    "slideshow": {
     "slide_type": "slide"
    }
   },
   "source": [
    "#### Paso 4: Predecir"
   ]
  },
  {
   "cell_type": "code",
   "execution_count": null,
   "metadata": {
    "slideshow": {
     "slide_type": "fragment"
    }
   },
   "outputs": [],
   "source": [
    "X_new = np.array([[5, 2.9, 1, 0.2]])\n",
    "print(\"X_new.shape: {}\".format(X_new.shape))\n"
   ]
  },
  {
   "cell_type": "code",
   "execution_count": null,
   "metadata": {
    "slideshow": {
     "slide_type": "fragment"
    }
   },
   "outputs": [],
   "source": [
    "prediction = arbol.predict(X_new)\n",
    "print(\"Predicción: {}\".format(prediction))\n",
    "print(\"Nombre del target predicho: {}\".format(\n",
    "       iris_dataset['target_names'][prediction]))"
   ]
  },
  {
   "cell_type": "markdown",
   "metadata": {
    "slideshow": {
     "slide_type": "slide"
    }
   },
   "source": [
    "#### Paso 5: Evaluación del modelo"
   ]
  },
  {
   "cell_type": "code",
   "execution_count": null,
   "metadata": {
    "slideshow": {
     "slide_type": "fragment"
    }
   },
   "outputs": [],
   "source": [
    "y_pred = arbol.predict(X_test)\n",
    "\n",
    "print(\"Predicciones sobre el test set:\\n {}\".format(y_pred))\n",
    "print(\"Score sobre el test set: {:.2f}\".format(np.mean(y_pred == y_test))) # A mano\n",
    "print(\"Score sobre el test set: {:.2f}\".format(arbol.score(X_test, y_test))) # usando el método score.\n",
    "\n",
    "print(\"Matriz de confusión:\")\n",
    "confusion = sklearn.metrics.confusion_matrix(y_pred=y_pred, y_true=y_test)\n",
    "display(pd.DataFrame(confusion, columns=iris_dataset['target_names'], index=iris_dataset['target_names']))"
   ]
  },
  {
   "cell_type": "markdown",
   "metadata": {
    "slideshow": {
     "slide_type": "slide"
    }
   },
   "source": [
    "### En resumen\n"
   ]
  },
  {
   "cell_type": "code",
   "execution_count": null,
   "metadata": {
    "slideshow": {
     "slide_type": "fragment"
    }
   },
   "outputs": [],
   "source": [
    "X_train, X_test, y_train, y_test = sklearn.model_selection.train_test_split(\n",
    "    iris_dataset['data'], iris_dataset['target'], random_state=1234, test_size=0.1)\n",
    "\n",
    "arbol = DecisionTreeClassifier(max_depth=3, criterion=\"entropy\")\n",
    "arbol.fit(X_train, y_train)\n",
    "\n",
    "print(\"Score sobre el training set: {:.2f}\".format(arbol.score(X_train, y_train)), \"¿para qué sirve este número?\")\n",
    "print(\"Score sobre el test set: {:.2f}\".format(arbol.score(X_test, y_test)))\n"
   ]
  },
  {
   "cell_type": "markdown",
   "metadata": {
    "slideshow": {
     "slide_type": "slide"
    }
   },
   "source": [
    "### Ejercicios Árboles de Decisión: \n",
    "\n",
    "1. Resolver el problema anterior utilizando árboles de decisión de sklearn.\n",
    "1. Graficar el árbol obtenido (ver función `dibujar_arbol`). \n",
    "1. Probar distintos valores para: `max_depth` y graficar la performance sobre test al variar este parámetro. \n",
    "1. ¿Qué ocurre con la performance con el valor testeando sobre train? \n",
    "1. ¿Cuál es el máximo valor de profundidad que se alcanza? ¿por qué? \n",
    "1. ¿Qué ocurre si cambiamos el parámetro `splitter` a `splitter=\"random\"`? ¿Qué profundidad se alcanza?\n",
    "1. Plotear la importancia de features para cualquiera de los clasificadores encontrados. "
   ]
  },
  {
   "cell_type": "code",
   "execution_count": null,
   "metadata": {
    "slideshow": {
     "slide_type": "fragment"
    }
   },
   "outputs": [],
   "source": [
    "import sklearn.tree \n",
    "sklearn.tree.DecisionTreeClassifier?"
   ]
  },
  {
   "cell_type": "code",
   "execution_count": null,
   "metadata": {
    "slideshow": {
     "slide_type": "skip"
    }
   },
   "outputs": [],
   "source": [
    "# !pip install pydotplus\n",
    "# También instalar Graphviz. (en ubuntu: sudo apt-get install graphviz)\n",
    "\n",
    "from sklearn.externals.six import StringIO  \n",
    "from IPython.display import Image, display\n",
    "import pydotplus\n",
    "\n",
    "    \n",
    "def dibujar_arbol(clf):\n",
    "    dot_data = StringIO()\n",
    "    sklearn.tree.export_graphviz(clf, out_file=dot_data,  \n",
    "                    filled=True, \n",
    "                    class_names = iris_dataset.target_names,\n",
    "                    feature_names=iris_dataset.feature_names,\n",
    "                    special_characters=True)\n",
    "    graph = pydotplus.graph_from_dot_data(dot_data.getvalue())  \n",
    "    display(Image(graph.create_png()))"
   ]
  }
 ],
 "metadata": {
  "celltoolbar": "Slideshow",
  "kernelspec": {
   "display_name": "Python 3",
   "language": "python",
   "name": "python3"
  },
  "language_info": {
   "codemirror_mode": {
    "name": "ipython",
    "version": 3
   },
   "file_extension": ".py",
   "mimetype": "text/x-python",
   "name": "python",
   "nbconvert_exporter": "python",
   "pygments_lexer": "ipython3",
   "version": "3.6.7"
  }
 },
 "nbformat": 4,
 "nbformat_minor": 2
}
